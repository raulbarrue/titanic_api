{
 "metadata": {
  "language_info": {
   "codemirror_mode": {
    "name": "ipython",
    "version": 3
   },
   "file_extension": ".py",
   "mimetype": "text/x-python",
   "name": "python",
   "nbconvert_exporter": "python",
   "pygments_lexer": "ipython3",
   "version": "3.7.7-final"
  },
  "orig_nbformat": 2,
  "kernelspec": {
   "name": "Python 3.7.7 64-bit ('azure': conda)",
   "display_name": "Python 3.7.7 64-bit ('azure': conda)",
   "metadata": {
    "interpreter": {
     "hash": "ca60598803983cb557cffe5e99b3d8b1576f8c5b8d0c0aa7b09cf83274c1dcfe"
    }
   }
  }
 },
 "nbformat": 4,
 "nbformat_minor": 2,
 "cells": [
  {
   "cell_type": "code",
   "execution_count": 27,
   "metadata": {},
   "outputs": [
    {
     "output_type": "stream",
     "name": "stdout",
     "text": [
      "titanic-ws workspace loaded.\nworkspaceblobstore datastore loaded.\n"
     ]
    }
   ],
   "source": [
    "from azureml.core import Workspace \n",
    "\n",
    "ws = Workspace(subscription_id=\"fc1c5e68-95c2-4bce-9ff9-5bd8442fb921\", resource_group=\"titanic-api\", workspace_name=\"titanic-ws\")\n",
    "default_ds = ws.get_default_datastore()\n",
    "\n",
    "print(ws.name, \"workspace loaded.\")\n",
    "print(default_ds.name, \"datastore loaded.\")"
   ]
  },
  {
   "source": [
    "# Modelling"
   ],
   "cell_type": "markdown",
   "metadata": {}
  },
  {
   "cell_type": "code",
   "execution_count": 1,
   "metadata": {},
   "outputs": [],
   "source": [
    "import pandas as pd\n",
    "import titanic_functions as tfunc\n",
    "from sklearn.preprocessing import StandardScaler\n",
    "\n",
    "df2 = pd.read_csv(\"../dataset/titanic_data.csv\")\n",
    "df2 = tfunc.clean_df(df2)\n",
    "\n",
    "X = df2.drop(\"survived\", axis=1)\n",
    "y = df2[\"survived\"]\n",
    "\n",
    "scaler = StandardScaler()\n",
    "\n",
    "Xsc = scaler.fit_transform(X)"
   ]
  },
  {
   "cell_type": "code",
   "execution_count": 2,
   "metadata": {},
   "outputs": [],
   "source": [
    "# Split the dataset in two equal parts\n",
    "from sklearn.model_selection import train_test_split\n",
    "X_train, X_test, y_train, y_test = train_test_split(Xsc, y, test_size=0.2, random_state=0)"
   ]
  },
  {
   "cell_type": "code",
   "execution_count": 22,
   "metadata": {},
   "outputs": [],
   "source": [
    "from sklearn.naive_bayes import GaussianNB\n",
    "from sklearn.ensemble import RandomForestClassifier\n",
    "from sklearn.linear_model import LogisticRegression\n",
    "\n",
    "gnb = GaussianNB()\n",
    "rfc = RandomForestClassifier()\n",
    "lr = LogisticRegression()"
   ]
  },
  {
   "cell_type": "code",
   "execution_count": 23,
   "metadata": {},
   "outputs": [
    {
     "output_type": "execute_result",
     "data": {
      "text/plain": [
       "LogisticRegression(C=1.0, class_weight=None, dual=False, fit_intercept=True,\n",
       "                   intercept_scaling=1, l1_ratio=None, max_iter=100,\n",
       "                   multi_class='auto', n_jobs=None, penalty='l2',\n",
       "                   random_state=None, solver='lbfgs', tol=0.0001, verbose=0,\n",
       "                   warm_start=False)"
      ]
     },
     "metadata": {},
     "execution_count": 23
    }
   ],
   "source": [
    "gnb.fit(X_train, y_train)\n",
    "rfc.fit(X_train, y_train)\n",
    "lr.fit(X_train, y_train)"
   ]
  },
  {
   "cell_type": "code",
   "execution_count": 24,
   "metadata": {},
   "outputs": [],
   "source": [
    "pred_gnb = gnb.predict(X_test)\n",
    "pred_rfc = rfc.predict(X_test)\n",
    "pred_lr = lr.predict(X_test)"
   ]
  },
  {
   "cell_type": "code",
   "execution_count": 28,
   "metadata": {},
   "outputs": [
    {
     "output_type": "stream",
     "name": "stdout",
     "text": [
      "Gaussian NB:\n\tAccuracy: 0.7023\n\tPrecision: 0.5897\n\tRecall: 0.8679\n\tF1-Score: 0.7023\n\nRandom Forest Classifier:\n\tAccuracy: 0.7863\n\tPrecision: 0.7404\n\tRecall: 0.7264\n\tF1-Score: 0.7333\n\nLogistic Regression:\n\tAccuracy: 0.8282\n\tPrecision: 0.7699\n\tRecall: 0.8208\n\tF1-Score: 0.7945\n\n"
     ]
    }
   ],
   "source": [
    "from sklearn.metrics import confusion_matrix, plot_confusion_matrix, accuracy_score, precision_score, recall_score, roc_curve, roc_auc_score, classification_report, f1_score\n",
    "import numpy as np\n",
    "\n",
    "models = {\"Gaussian NB\": pred_gnb, \"Random Forest Classifier\": pred_rfc, \"Logistic Regression\": pred_lr}\n",
    "metrics = {}\n",
    "\n",
    "for name, pred in models.items():\n",
    "    print(name+\":\")\n",
    "\n",
    "    print(\"\\tAccuracy:\", np.round(accuracy_score(y_test, pred),4))\n",
    "    print(\"\\tPrecision:\", np.round(precision_score(y_test, pred),4))\n",
    "    print(\"\\tRecall:\", np.round(recall_score(y_test, pred),4))\n",
    "    print(\"\\tF1-Score:\", np.round(f1_score(y_test, pred),4))\n",
    "    print()\n",
    "\n",
    "    m = {\"Accuracy:\": np.round(accuracy_score(y_test, pred),4),\n",
    "        \"Precision:\": np.round(precision_score(y_test, pred),4),\n",
    "        \"Recall:\": np.round(recall_score(y_test, pred),4),\n",
    "        \"F1-Score:\": np.round(f1_score(y_test, pred),4)}\n",
    "    metrics[name] = m "
   ]
  },
  {
   "cell_type": "code",
   "execution_count": 29,
   "metadata": {},
   "outputs": [
    {
     "output_type": "execute_result",
     "data": {
      "text/plain": [
       "['model_folder/scaler.pkl']"
      ]
     },
     "metadata": {},
     "execution_count": 29
    }
   ],
   "source": [
    "import joblib\n",
    "\n",
    "best_model = lr\n",
    "best_model_name = \"Logistic Regression\"\n",
    "best_model_metrics = metrics[best_model_name]\n",
    "\n",
    "os.makedirs(\"model_folder\", exist_ok=True)\n",
    "joblib.dump(best_model, \"model_folder/titanic-api-model.pkl\")\n",
    "joblib.dump(scaler, \"model_folder/scaler.pkl\")"
   ]
  },
  {
   "cell_type": "code",
   "execution_count": 30,
   "metadata": {},
   "outputs": [
    {
     "output_type": "stream",
     "name": "stdout",
     "text": [
      "Registering model titanic-api-model\n"
     ]
    },
    {
     "output_type": "execute_result",
     "data": {
      "text/plain": [
       "Model(workspace=Workspace.create(name='titanic-ws', subscription_id='fc1c5e68-95c2-4bce-9ff9-5bd8442fb921', resource_group='titanic-api'), name=titanic-api-model, id=titanic-api-model:3, version=3, tags={'Accuracy:': '0.8282', 'Precision:': '0.7699', 'Recall:': '0.8208', 'F1-Score:': '0.7945'}, properties={})"
      ]
     },
     "metadata": {},
     "execution_count": 30
    }
   ],
   "source": [
    "from azureml.core import Model \n",
    "Model.register(ws, \"model_folder/titanic-api-model.pkl\", \"titanic-api-model\", tags=best_model_metrics)"
   ]
  },
  {
   "cell_type": "code",
   "execution_count": 33,
   "metadata": {},
   "outputs": [
    {
     "output_type": "stream",
     "name": "stdout",
     "text": [
      "Registering model titanic-api-scaler\n"
     ]
    },
    {
     "output_type": "execute_result",
     "data": {
      "text/plain": [
       "Model(workspace=Workspace.create(name='titanic-ws', subscription_id='fc1c5e68-95c2-4bce-9ff9-5bd8442fb921', resource_group='titanic-api'), name=titanic-api-scaler, id=titanic-api-scaler:1, version=1, tags={'Scaler': 'Titanic Input Scaler'}, properties={})"
      ]
     },
     "metadata": {},
     "execution_count": 33
    }
   ],
   "source": [
    "Model.register(ws, \"model_folder/scaler.pkl\", \"titanic-api-scaler\", tags={\"Scaler\":\"Titanic Input Scaler\"})"
   ]
  },
  {
   "cell_type": "code",
   "execution_count": 34,
   "metadata": {},
   "outputs": [],
   "source": [
    "model = Model.get_model_path(\"model_folder/titanic-api-model.pkl\")\n",
    "scaler = Model.get_model_path(\"model_folder/scaler.pkl\")"
   ]
  },
  {
   "cell_type": "code",
   "execution_count": 37,
   "metadata": {},
   "outputs": [
    {
     "output_type": "stream",
     "name": "stdout",
     "text": [
      "Writing model_folder/score.py\n"
     ]
    }
   ],
   "source": [
    "%%writefile model_folder/score.py\n",
    "\n",
    "import json\n",
    "import numpy as np\n",
    "import os\n",
    "import joblib\n",
    "\n",
    "def init():\n",
    "    global model\n",
    "    global scaler\n",
    "    model_path = os.path.join(os.getenv('AZUREML_MODEL_DIR'), 'titanic-api-model.pkl')\n",
    "    model = joblib.load(model_path)\n",
    "\n",
    "    scaler_path = os.path.join(os.getenv('AZUREML_MODEL_DIR'), 'scaler.pkl')\n",
    "    scaler = joblib.load(scaler_path)\n",
    "\n",
    "def run(data):\n",
    "\n",
    "########### SCALE INPUT\n",
    "\n",
    "    try:\n",
    "        data = np.array(json.loads(data))\n",
    "        result = model.predict(data)\n",
    "        # You can return any data type, as long as it is JSON serializable.\n",
    "        return result.tolist()\n",
    "    except Exception as e:\n",
    "        error = str(e)\n",
    "        return error\n"
   ]
  },
  {
   "cell_type": "code",
   "execution_count": 43,
   "metadata": {},
   "outputs": [],
   "source": [
    "# Inference config\n",
    "\n",
    "from azureml.core.environment import Environment\n",
    "from azureml.core.conda_dependencies import CondaDependencies\n",
    "\n",
    "# Create an environment and add conda dependencies to it\n",
    "myenv = Environment(name=\"myenv\")\n",
    "# Enable Docker based environment\n",
    "myenv.docker.enabled = True\n",
    "# Build conda dependencies\n",
    "myenv.python.conda_dependencies = CondaDependencies.create(conda_packages=['scikit-learn'],\n",
    "                                                           pip_packages=['azureml-defaults'])\n",
    "inference_config = InferenceConfig(entry_script=\"model_folder/score.py\", environment=myenv)"
   ]
  },
  {
   "cell_type": "code",
   "execution_count": 44,
   "metadata": {},
   "outputs": [],
   "source": [
    "# Deployment config\n",
    "# NOT NEEDED FOR AZURE FUNCTIONS"
   ]
  },
  {
   "cell_type": "code",
   "execution_count": 45,
   "metadata": {},
   "outputs": [
    {
     "output_type": "stream",
     "name": "stdout",
     "text": [
      "Collecting azureml-contrib-functions\n",
      "  Downloading azureml_contrib_functions-1.15.0-py3-none-any.whl (6.7 kB)\n",
      "Collecting azureml-core~=1.15.0\n",
      "  Downloading azureml_core-1.15.0-py3-none-any.whl (2.0 MB)\n",
      "Requirement already satisfied: SecretStorage in c:\\programdata\\anaconda\\envs\\azure-training\\lib\\site-packages (from azureml-core~=1.15.0->azureml-contrib-functions) (3.1.2)\n",
      "Requirement already satisfied: pyopenssl in c:\\programdata\\anaconda\\envs\\azure-training\\lib\\site-packages (from azureml-core~=1.15.0->azureml-contrib-functions) (19.1.0)\n",
      "Requirement already satisfied: azure-mgmt-keyvault<=2.2.0,>=0.40.0 in c:\\programdata\\anaconda\\envs\\azure-training\\lib\\site-packages (from azureml-core~=1.15.0->azureml-contrib-functions) (2.2.0)\n",
      "Requirement already satisfied: azure-common>=1.1.12 in c:\\programdata\\anaconda\\envs\\azure-training\\lib\\site-packages (from azureml-core~=1.15.0->azureml-contrib-functions) (1.1.25)\n",
      "Requirement already satisfied: python-dateutil>=2.7.3 in c:\\programdata\\anaconda\\envs\\azure-training\\lib\\site-packages (from azureml-core~=1.15.0->azureml-contrib-functions) (2.8.1)\n",
      "Requirement already satisfied: msrest>=0.5.1 in c:\\programdata\\anaconda\\envs\\azure-training\\lib\\site-packages (from azureml-core~=1.15.0->azureml-contrib-functions) (0.6.19)\n",
      "Requirement already satisfied: azure-mgmt-resource<=10.2.0,>=1.2.1 in c:\\programdata\\anaconda\\envs\\azure-training\\lib\\site-packages (from azureml-core~=1.15.0->azureml-contrib-functions) (10.2.0)\n",
      "Requirement already satisfied: ruamel.yaml>=0.15.35 in c:\\programdata\\anaconda\\envs\\azure-training\\lib\\site-packages (from azureml-core~=1.15.0->azureml-contrib-functions) (0.16.10)ERROR: After October 2020 you may experience errors when installing or updating packages. This is because pip will change the way that it resolves dependency conflicts.\n",
      "\n",
      "We recommend you use --use-feature=2020-resolver to test your packages with the new resolver before it becomes the default.\n",
      "\n",
      "azureml-train-core 1.11.0 requires azureml-core~=1.11.0, but you'll have azureml-core 1.15.0 which is incompatible.\n",
      "azureml-train-automl-client 1.11.0 requires azureml-core~=1.11.0, but you'll have azureml-core 1.15.0 which is incompatible.\n",
      "azureml-telemetry 1.11.0 requires azureml-core~=1.11.0, but you'll have azureml-core 1.15.0 which is incompatible.\n",
      "azureml-sdk 1.11.0 requires azureml-core~=1.11.0, but you'll have azureml-core 1.15.0 which is incompatible.\n",
      "azureml-pipeline-core 1.11.0 requires azureml-core~=1.11.0, but you'll have azureml-core 1.15.0 which is incompatible.\n",
      "\n",
      "Requirement already satisfied: ndg-httpsclient in c:\\programdata\\anaconda\\envs\\azure-training\\lib\\site-packages (from azureml-core~=1.15.0->azureml-contrib-functions) (0.5.1)\n",
      "Requirement already satisfied: msrestazure>=0.4.33 in c:\\programdata\\anaconda\\envs\\azure-training\\lib\\site-packages (from azureml-core~=1.15.0->azureml-contrib-functions) (0.6.4)\n",
      "Requirement already satisfied: adal>=1.2.0 in c:\\programdata\\anaconda\\envs\\azure-training\\lib\\site-packages (from azureml-core~=1.15.0->azureml-contrib-functions) (1.2.4)\n",
      "Requirement already satisfied: jmespath in c:\\programdata\\anaconda\\envs\\azure-training\\lib\\site-packages (from azureml-core~=1.15.0->azureml-contrib-functions) (0.10.0)\n",
      "Requirement already satisfied: pytz in c:\\programdata\\anaconda\\envs\\azure-training\\lib\\site-packages (from azureml-core~=1.15.0->azureml-contrib-functions) (2019.3)\n",
      "Requirement already satisfied: azure-graphrbac>=0.40.0 in c:\\programdata\\anaconda\\envs\\azure-training\\lib\\site-packages (from azureml-core~=1.15.0->azureml-contrib-functions) (0.61.1)\n",
      "Requirement already satisfied: docker in c:\\programdata\\anaconda\\envs\\azure-training\\lib\\site-packages (from azureml-core~=1.15.0->azureml-contrib-functions) (4.2.2)\n",
      "Requirement already satisfied: backports.tempfile in c:\\programdata\\anaconda\\envs\\azure-training\\lib\\site-packages (from azureml-core~=1.15.0->azureml-contrib-functions) (1.0)\n",
      "Requirement already satisfied: jsonpickle in c:\\programdata\\anaconda\\envs\\azure-training\\lib\\site-packages (from azureml-core~=1.15.0->azureml-contrib-functions) (1.4.1)\n",
      "Requirement already satisfied: azure-mgmt-containerregistry>=2.0.0 in c:\\programdata\\anaconda\\envs\\azure-training\\lib\\site-packages (from azureml-core~=1.15.0->azureml-contrib-functions) (2.8.0)\n",
      "Requirement already satisfied: azure-mgmt-authorization>=0.40.0 in c:\\programdata\\anaconda\\envs\\azure-training\\lib\\site-packages (from azureml-core~=1.15.0->azureml-contrib-functions) (0.60.0)\n",
      "Requirement already satisfied: pathspec in c:\\programdata\\anaconda\\envs\\azure-training\\lib\\site-packages (from azureml-core~=1.15.0->azureml-contrib-functions) (0.8.0)\n",
      "Requirement already satisfied: PyJWT in c:\\programdata\\anaconda\\envs\\azure-training\\lib\\site-packages (from azureml-core~=1.15.0->azureml-contrib-functions) (1.7.1)\n",
      "Requirement already satisfied: cryptography!=1.9,!=2.0.*,!=2.1.*,!=2.2.* in c:\\programdata\\anaconda\\envs\\azure-training\\lib\\site-packages (from azureml-core~=1.15.0->azureml-contrib-functions) (3.0)\n",
      "Requirement already satisfied: urllib3>=1.23 in c:\\programdata\\anaconda\\envs\\azure-training\\lib\\site-packages (from azureml-core~=1.15.0->azureml-contrib-functions) (1.25.10)\n",
      "Requirement already satisfied: contextlib2 in c:\\programdata\\anaconda\\envs\\azure-training\\lib\\site-packages (from azureml-core~=1.15.0->azureml-contrib-functions) (0.6.0.post1)\n",
      "Requirement already satisfied: azure-mgmt-storage<=11.2.0,>=1.5.0 in c:\\programdata\\anaconda\\envs\\azure-training\\lib\\site-packages (from azureml-core~=1.15.0->azureml-contrib-functions) (11.1.0)\n",
      "Requirement already satisfied: requests>=2.19.1 in c:\\programdata\\anaconda\\envs\\azure-training\\lib\\site-packages (from azureml-core~=1.15.0->azureml-contrib-functions) (2.24.0)\n",
      "Requirement already satisfied: jeepney>=0.4.2 in c:\\programdata\\anaconda\\envs\\azure-training\\lib\\site-packages (from SecretStorage->azureml-core~=1.15.0->azureml-contrib-functions) (0.4.3)\n",
      "Requirement already satisfied: six>=1.5.2 in c:\\programdata\\anaconda\\envs\\azure-training\\lib\\site-packages (from pyopenssl->azureml-core~=1.15.0->azureml-contrib-functions) (1.14.0)\n",
      "Requirement already satisfied: certifi>=2017.4.17 in c:\\programdata\\anaconda\\envs\\azure-training\\lib\\site-packages (from msrest>=0.5.1->azureml-core~=1.15.0->azureml-contrib-functions) (2020.6.20)\n",
      "Requirement already satisfied: isodate>=0.6.0 in c:\\programdata\\anaconda\\envs\\azure-training\\lib\\site-packages (from msrest>=0.5.1->azureml-core~=1.15.0->azureml-contrib-functions) (0.6.0)\n",
      "Requirement already satisfied: requests-oauthlib>=0.5.0 in c:\\programdata\\anaconda\\envs\\azure-training\\lib\\site-packages (from msrest>=0.5.1->azureml-core~=1.15.0->azureml-contrib-functions) (1.3.0)\n",
      "Requirement already satisfied: ruamel.yaml.clib>=0.1.2; platform_python_implementation == \"CPython\" and python_version < \"3.9\" in c:\\programdata\\anaconda\\envs\\azure-training\\lib\\site-packages (from ruamel.yaml>=0.15.35->azureml-core~=1.15.0->azureml-contrib-functions) (0.2.0)\n",
      "Requirement already satisfied: pyasn1>=0.1.1 in c:\\programdata\\anaconda\\envs\\azure-training\\lib\\site-packages (from ndg-httpsclient->azureml-core~=1.15.0->azureml-contrib-functions) (0.4.8)\n",
      "Requirement already satisfied: websocket-client>=0.32.0 in c:\\programdata\\anaconda\\envs\\azure-training\\lib\\site-packages (from docker->azureml-core~=1.15.0->azureml-contrib-functions) (0.57.0)\n",
      "Requirement already satisfied: pypiwin32==223; sys_platform == \"win32\" and python_version >= \"3.6\" in c:\\programdata\\anaconda\\envs\\azure-training\\lib\\site-packages (from docker->azureml-core~=1.15.0->azureml-contrib-functions) (223)\n",
      "Requirement already satisfied: backports.weakref in c:\\programdata\\anaconda\\envs\\azure-training\\lib\\site-packages (from backports.tempfile->azureml-core~=1.15.0->azureml-contrib-functions) (1.0.post1)\n",
      "Requirement already satisfied: importlib-metadata in c:\\programdata\\anaconda\\envs\\azure-training\\lib\\site-packages (from jsonpickle->azureml-core~=1.15.0->azureml-contrib-functions) (1.5.0)\n",
      "Requirement already satisfied: cffi!=1.11.3,>=1.8 in c:\\programdata\\anaconda\\envs\\azure-training\\lib\\site-packages (from cryptography!=1.9,!=2.0.*,!=2.1.*,!=2.2.*->azureml-core~=1.15.0->azureml-contrib-functions) (1.14.1)\n",
      "Requirement already satisfied: chardet<4,>=3.0.2 in c:\\programdata\\anaconda\\envs\\azure-training\\lib\\site-packages (from requests>=2.19.1->azureml-core~=1.15.0->azureml-contrib-functions) (3.0.4)\n",
      "Requirement already satisfied: idna<3,>=2.5 in c:\\programdata\\anaconda\\envs\\azure-training\\lib\\site-packages (from requests>=2.19.1->azureml-core~=1.15.0->azureml-contrib-functions) (2.10)\n",
      "Requirement already satisfied: oauthlib>=3.0.0 in c:\\programdata\\anaconda\\envs\\azure-training\\lib\\site-packages (from requests-oauthlib>=0.5.0->msrest>=0.5.1->azureml-core~=1.15.0->azureml-contrib-functions) (3.1.0)\n",
      "Requirement already satisfied: pywin32>=223 in c:\\programdata\\anaconda\\envs\\azure-training\\lib\\site-packages (from pypiwin32==223; sys_platform == \"win32\" and python_version >= \"3.6\"->docker->azureml-core~=1.15.0->azureml-contrib-functions) (227)\n",
      "Requirement already satisfied: zipp>=0.5 in c:\\programdata\\anaconda\\envs\\azure-training\\lib\\site-packages (from importlib-metadata->jsonpickle->azureml-core~=1.15.0->azureml-contrib-functions) (3.1.0)\n",
      "Requirement already satisfied: pycparser in c:\\programdata\\anaconda\\envs\\azure-training\\lib\\site-packages (from cffi!=1.11.3,>=1.8->cryptography!=1.9,!=2.0.*,!=2.1.*,!=2.2.*->azureml-core~=1.15.0->azureml-contrib-functions) (2.20)\n",
      "Installing collected packages: azureml-core, azureml-contrib-functions\n",
      "  Attempting uninstall: azureml-core\n",
      "    Found existing installation: azureml-core 1.11.0\n",
      "    Uninstalling azureml-core-1.11.0:\n",
      "      Successfully uninstalled azureml-core-1.11.0\n",
      "Successfully installed azureml-contrib-functions-1.15.0 azureml-core-1.15.0\n"
     ]
    }
   ],
   "source": [
    "!pip install azureml-contrib-functions"
   ]
  },
  {
   "cell_type": "code",
   "execution_count": 47,
   "metadata": {},
   "outputs": [
    {
     "output_type": "stream",
     "name": "stderr",
     "text": [
      "ERROR - Models must either be of type azureml.core.Model or a str path to a file or folder.\n\n"
     ]
    },
    {
     "output_type": "error",
     "ename": "WebserviceException",
     "evalue": "WebserviceException:\n\tMessage: Models must either be of type azureml.core.Model or a str path to a file or folder.\n\tInnerException None\n\tErrorResponse \n{\n    \"error\": {\n        \"message\": \"Models must either be of type azureml.core.Model or a str path to a file or folder.\"\n    }\n}",
     "traceback": [
      "\u001b[1;31m---------------------------------------------------------------------------\u001b[0m",
      "\u001b[1;31mWebserviceException\u001b[0m                       Traceback (most recent call last)",
      "\u001b[1;32m<ipython-input-47-03a67f9b8f49>\u001b[0m in \u001b[0;36m<module>\u001b[1;34m\u001b[0m\n\u001b[0;32m      4\u001b[0m \u001b[0mmodel\u001b[0m \u001b[1;33m=\u001b[0m \u001b[0mjoblib\u001b[0m\u001b[1;33m.\u001b[0m\u001b[0mload\u001b[0m\u001b[1;33m(\u001b[0m\u001b[0mmodel\u001b[0m\u001b[1;33m)\u001b[0m\u001b[1;33m\u001b[0m\u001b[1;33m\u001b[0m\u001b[0m\n\u001b[0;32m      5\u001b[0m \u001b[1;33m\u001b[0m\u001b[0m\n\u001b[1;32m----> 6\u001b[1;33m \u001b[0mblob\u001b[0m \u001b[1;33m=\u001b[0m \u001b[0mpackage\u001b[0m\u001b[1;33m(\u001b[0m\u001b[0mws\u001b[0m\u001b[1;33m,\u001b[0m \u001b[1;33m[\u001b[0m\u001b[0mmodel\u001b[0m\u001b[1;33m]\u001b[0m\u001b[1;33m,\u001b[0m \u001b[0minference_config\u001b[0m\u001b[1;33m,\u001b[0m \u001b[0mfunctions_enabled\u001b[0m\u001b[1;33m=\u001b[0m\u001b[1;32mTrue\u001b[0m\u001b[1;33m,\u001b[0m \u001b[0mtrigger\u001b[0m\u001b[1;33m=\u001b[0m\u001b[0mBLOB_TRIGGER\u001b[0m\u001b[1;33m,\u001b[0m \u001b[0minput_path\u001b[0m\u001b[1;33m=\u001b[0m\u001b[1;34m\"input/{blobname}.json\"\u001b[0m\u001b[1;33m,\u001b[0m \u001b[0moutput_path\u001b[0m\u001b[1;33m=\u001b[0m\u001b[1;34m\"output/{blobname}_out.json\"\u001b[0m\u001b[1;33m)\u001b[0m\u001b[1;33m\u001b[0m\u001b[1;33m\u001b[0m\u001b[0m\n\u001b[0m\u001b[0;32m      7\u001b[0m \u001b[0mblob\u001b[0m\u001b[1;33m.\u001b[0m\u001b[0mwait_for_creation\u001b[0m\u001b[1;33m(\u001b[0m\u001b[0mshow_output\u001b[0m\u001b[1;33m=\u001b[0m\u001b[1;32mTrue\u001b[0m\u001b[1;33m)\u001b[0m\u001b[1;33m\u001b[0m\u001b[1;33m\u001b[0m\u001b[0m\n\u001b[0;32m      8\u001b[0m \u001b[1;31m# Display the package location/ACR path\u001b[0m\u001b[1;33m\u001b[0m\u001b[1;33m\u001b[0m\u001b[1;33m\u001b[0m\u001b[0m\n",
      "\u001b[1;32mC:\\ProgramData\\Anaconda\\envs\\azure-training\\lib\\site-packages\\azureml\\contrib\\functions\\_package.py\u001b[0m in \u001b[0;36mpackage\u001b[1;34m(workspace, models, inference_config, generate_dockerfile, functions_enabled, trigger, **kwargs)\u001b[0m\n\u001b[0;32m     47\u001b[0m         \u001b[1;32mreturn\u001b[0m \u001b[0m__package_call\u001b[0m\u001b[1;33m(\u001b[0m\u001b[0mworkspace\u001b[0m\u001b[1;33m,\u001b[0m \u001b[0mmodels\u001b[0m\u001b[1;33m,\u001b[0m \u001b[0minference_config\u001b[0m\u001b[1;33m,\u001b[0m \u001b[0mgenerate_dockerfile\u001b[0m\u001b[1;33m,\u001b[0m \u001b[1;33m{\u001b[0m\u001b[1;33m}\u001b[0m\u001b[1;33m)\u001b[0m\u001b[1;33m\u001b[0m\u001b[1;33m\u001b[0m\u001b[0m\n\u001b[0;32m     48\u001b[0m     \u001b[1;32mtry\u001b[0m\u001b[1;33m:\u001b[0m\u001b[1;33m\u001b[0m\u001b[1;33m\u001b[0m\u001b[0m\n\u001b[1;32m---> 49\u001b[1;33m         return __package_call(workspace, models, inference_config, generate_dockerfile,\n\u001b[0m\u001b[0;32m     50\u001b[0m                               payload_functions[trigger](**kwargs))\n\u001b[0;32m     51\u001b[0m     \u001b[1;32mexcept\u001b[0m \u001b[0mKeyError\u001b[0m \u001b[1;32mas\u001b[0m \u001b[0mex\u001b[0m\u001b[1;33m:\u001b[0m\u001b[1;33m\u001b[0m\u001b[1;33m\u001b[0m\u001b[0m\n",
      "\u001b[1;32mC:\\ProgramData\\Anaconda\\envs\\azure-training\\lib\\site-packages\\azureml\\contrib\\functions\\_package.py\u001b[0m in \u001b[0;36m__package_call\u001b[1;34m(workspace, models, inference_config, generate_dockerfile, options)\u001b[0m\n\u001b[0;32m     57\u001b[0m \u001b[1;33m\u001b[0m\u001b[0m\n\u001b[0;32m     58\u001b[0m \u001b[1;32mdef\u001b[0m \u001b[0m__package_call\u001b[0m\u001b[1;33m(\u001b[0m\u001b[0mworkspace\u001b[0m\u001b[1;33m,\u001b[0m \u001b[0mmodels\u001b[0m\u001b[1;33m,\u001b[0m \u001b[0minference_config\u001b[0m\u001b[1;33m,\u001b[0m \u001b[0mgenerate_dockerfile\u001b[0m\u001b[1;33m,\u001b[0m \u001b[0moptions\u001b[0m\u001b[1;33m)\u001b[0m\u001b[1;33m:\u001b[0m\u001b[1;33m\u001b[0m\u001b[1;33m\u001b[0m\u001b[0m\n\u001b[1;32m---> 59\u001b[1;33m     \u001b[0mmodel_ids\u001b[0m \u001b[1;33m=\u001b[0m \u001b[0mModel\u001b[0m\u001b[1;33m.\u001b[0m\u001b[0m_resolve_to_model_ids\u001b[0m\u001b[1;33m(\u001b[0m\u001b[0mworkspace\u001b[0m\u001b[1;33m,\u001b[0m \u001b[0mmodels\u001b[0m\u001b[1;33m,\u001b[0m \u001b[1;34m'package.{}'\u001b[0m\u001b[1;33m.\u001b[0m\u001b[0mformat\u001b[0m\u001b[1;33m(\u001b[0m\u001b[0muuid\u001b[0m\u001b[1;33m.\u001b[0m\u001b[0muuid4\u001b[0m\u001b[1;33m(\u001b[0m\u001b[1;33m)\u001b[0m\u001b[1;33m)\u001b[0m\u001b[1;33m)\u001b[0m\u001b[1;33m\u001b[0m\u001b[1;33m\u001b[0m\u001b[0m\n\u001b[0m\u001b[0;32m     60\u001b[0m \u001b[1;33m\u001b[0m\u001b[0m\n\u001b[0;32m     61\u001b[0m     \u001b[0minference_config\u001b[0m\u001b[1;33m,\u001b[0m \u001b[0m_\u001b[0m \u001b[1;33m=\u001b[0m \u001b[0mconvert_parts_to_environment\u001b[0m\u001b[1;33m(\u001b[0m\u001b[1;34m'package'\u001b[0m\u001b[1;33m,\u001b[0m \u001b[0minference_config\u001b[0m\u001b[1;33m)\u001b[0m\u001b[1;33m\u001b[0m\u001b[1;33m\u001b[0m\u001b[0m\n",
      "\u001b[1;32mC:\\ProgramData\\Anaconda\\envs\\azure-training\\lib\\site-packages\\azureml\\core\\model.py\u001b[0m in \u001b[0;36m_resolve_to_model_ids\u001b[1;34m(workspace, models, name)\u001b[0m\n\u001b[0;32m   1177\u001b[0m         \u001b[1;34m\"\"\"Convert a mixed list of model objects, IDs, or local file paths to a list of just model IDs.\"\"\"\u001b[0m\u001b[1;33m\u001b[0m\u001b[1;33m\u001b[0m\u001b[0m\n\u001b[0;32m   1178\u001b[0m         \u001b[0mmodel_objs\u001b[0m \u001b[1;33m=\u001b[0m \u001b[0mModel\u001b[0m\u001b[1;33m.\u001b[0m\u001b[0m_resolve_to_models\u001b[0m\u001b[1;33m(\u001b[0m\u001b[0mworkspace\u001b[0m\u001b[1;33m,\u001b[0m \u001b[0mmodels\u001b[0m\u001b[1;33m,\u001b[0m \u001b[0mname\u001b[0m\u001b[1;33m)\u001b[0m\u001b[1;33m\u001b[0m\u001b[1;33m\u001b[0m\u001b[0m\n\u001b[1;32m-> 1179\u001b[1;33m         \u001b[0mmodel_ids\u001b[0m \u001b[1;33m=\u001b[0m \u001b[1;33m[\u001b[0m\u001b[0mmodel\u001b[0m\u001b[1;33m.\u001b[0m\u001b[0mid\u001b[0m \u001b[1;32mfor\u001b[0m \u001b[0mmodel\u001b[0m \u001b[1;32min\u001b[0m \u001b[0mmodel_objs\u001b[0m\u001b[1;33m]\u001b[0m\u001b[1;33m\u001b[0m\u001b[1;33m\u001b[0m\u001b[0m\n\u001b[0m\u001b[0;32m   1180\u001b[0m \u001b[1;33m\u001b[0m\u001b[0m\n\u001b[0;32m   1181\u001b[0m         \u001b[1;32mreturn\u001b[0m \u001b[0mmodel_ids\u001b[0m\u001b[1;33m\u001b[0m\u001b[1;33m\u001b[0m\u001b[0m\n",
      "\u001b[1;32mC:\\ProgramData\\Anaconda\\envs\\azure-training\\lib\\site-packages\\azureml\\core\\model.py\u001b[0m in \u001b[0;36m_resolve_to_models\u001b[1;34m(workspace, models, name)\u001b[0m\n\u001b[0;32m   1206\u001b[0m             \u001b[1;32melse\u001b[0m\u001b[1;33m:\u001b[0m\u001b[1;33m\u001b[0m\u001b[1;33m\u001b[0m\u001b[0m\n\u001b[0;32m   1207\u001b[0m                 raise WebserviceException('Models must either be of type azureml.core.Model or a str '\n\u001b[1;32m-> 1208\u001b[1;33m                                           'path to a file or folder.', logger=module_logger)\n\u001b[0m\u001b[0;32m   1209\u001b[0m             \u001b[0mmodel_number\u001b[0m \u001b[1;33m+=\u001b[0m \u001b[1;36m1\u001b[0m\u001b[1;33m\u001b[0m\u001b[1;33m\u001b[0m\u001b[0m\n\u001b[0;32m   1210\u001b[0m \u001b[1;33m\u001b[0m\u001b[0m\n",
      "\u001b[1;31mWebserviceException\u001b[0m: WebserviceException:\n\tMessage: Models must either be of type azureml.core.Model or a str path to a file or folder.\n\tInnerException None\n\tErrorResponse \n{\n    \"error\": {\n        \"message\": \"Models must either be of type azureml.core.Model or a str path to a file or folder.\"\n    }\n}"
     ]
    }
   ],
   "source": [
    "from azureml.contrib.functions import package\n",
    "from azureml.contrib.functions import BLOB_TRIGGER\n",
    "\n",
    "model = joblib.load(model)\n",
    "\n",
    "blob = package(ws, [model], inference_config, functions_enabled=True, trigger=BLOB_TRIGGER, input_path=\"input/{blobname}.json\", output_path=\"output/{blobname}_out.json\")\n",
    "blob.wait_for_creation(show_output=True)\n",
    "# Display the package location/ACR path\n",
    "print(blob.location)"
   ]
  },
  {
   "cell_type": "code",
   "execution_count": null,
   "metadata": {},
   "outputs": [],
   "source": []
  }
 ]
}